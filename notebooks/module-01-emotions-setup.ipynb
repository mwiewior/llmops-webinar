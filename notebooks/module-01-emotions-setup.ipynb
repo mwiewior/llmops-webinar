{
 "cells": [
  {
   "cell_type": "markdown",
   "id": "0",
   "metadata": {},
   "source": [
    "## Pre-requisites\n",
    "1. Ollama installed\n",
    "2. Model `llama3.2:3b-instruct-fp16` pulled"
   ]
  },
  {
   "cell_type": "code",
   "execution_count": null,
   "id": "1",
   "metadata": {},
   "outputs": [],
   "source": [
    "import dspy\n",
    "\n",
    "lm = dspy.OllamaLocal(\"gemma2:9b\")\n",
    "dspy.configure(lm=lm)"
   ]
  },
  {
   "cell_type": "code",
   "execution_count": null,
   "id": "2",
   "metadata": {},
   "outputs": [],
   "source": [
    "lm(\"Hello world!\")"
   ]
  },
  {
   "cell_type": "markdown",
   "id": "3",
   "metadata": {},
   "source": [
    "## Dataset [google-research-datasets/go_emotions](https://research.google/blog/goemotions-a-dataset-for-fine-grained-emotion-classification/) from Hugging Face"
   ]
  },
  {
   "cell_type": "code",
   "execution_count": null,
   "id": "4",
   "metadata": {},
   "outputs": [],
   "source": [
    "from dspy import datasets\n",
    "\n",
    "dl = datasets.DataLoader()\n",
    "dataset_emotions = dl.from_huggingface(\n",
    "    \"google-research-datasets/go_emotions\", \"simplified\", split=[\"train\", \"test\"]\n",
    ")"
   ]
  },
  {
   "cell_type": "code",
   "execution_count": null,
   "id": "5",
   "metadata": {},
   "outputs": [],
   "source": [
    "len(dataset_emotions[\"train\"]), len(dataset_emotions[\"test\"])"
   ]
  },
  {
   "cell_type": "code",
   "execution_count": null,
   "id": "6",
   "metadata": {},
   "outputs": [],
   "source": [
    "dataset_emotions[\"test\"][:3]"
   ]
  },
  {
   "cell_type": "code",
   "execution_count": null,
   "id": "7",
   "metadata": {},
   "outputs": [],
   "source": [
    "emotions = open(\"../data/emotions.txt\").read().splitlines() + [\"neutral\"]\n",
    "idx2emotion = {i: t for i, t in enumerate(emotions)}\n",
    "idx2emotion"
   ]
  },
  {
   "cell_type": "code",
   "execution_count": null,
   "id": "8",
   "metadata": {},
   "outputs": [],
   "source": [
    "for d in dataset_emotions:\n",
    "    for e in dataset_emotions[d]:\n",
    "        for k in e:\n",
    "            if k == \"labels\":\n",
    "                e[k] = [idx2emotion[i] for i in e[k]]"
   ]
  },
  {
   "cell_type": "code",
   "execution_count": null,
   "id": "9",
   "metadata": {},
   "outputs": [],
   "source": [
    "dataset_emotions[\"test\"][:3]"
   ]
  },
  {
   "cell_type": "code",
   "execution_count": null,
   "id": "10",
   "metadata": {},
   "outputs": [],
   "source": [
    "dataset_emotions[\"train\"][10:13]"
   ]
  },
  {
   "cell_type": "markdown",
   "id": "11",
   "metadata": {},
   "source": [
    "## Define a Signature for Emotion Classification"
   ]
  },
  {
   "cell_type": "code",
   "execution_count": null,
   "id": "12",
   "metadata": {},
   "outputs": [],
   "source": [
    "class EmotionSignature(dspy.Signature):\n",
    "    \"\"\"\n",
    "    Given a list of emotions, predict the most likely emotions of the input sentence.\n",
    "    Emotions:\n",
    "    =========\n",
    "    admiration\n",
    "    amusement\n",
    "    anger\n",
    "    annoyance\n",
    "    approval\n",
    "    caring\n",
    "    confusion\n",
    "    curiosity\n",
    "    desire\n",
    "    disappointment\n",
    "    disapproval\n",
    "    disgust\n",
    "    embarrassment\n",
    "    excitement\n",
    "    fear\n",
    "    gratitude\n",
    "    grief\n",
    "    joy\n",
    "    love\n",
    "    nervousness\n",
    "    optimism\n",
    "    pride\n",
    "    realization\n",
    "    relief\n",
    "    remorse\n",
    "    sadness\n",
    "    surprise\n",
    "    neutral\n",
    "    Give the most likely emotions of the input sentence as comma separated list.\n",
    "    Do not return any additional information.\n",
    "    \"\"\"\n",
    "\n",
    "    sentence = dspy.InputField(desc=\"\"\"Text to predict emotions\"\"\")\n",
    "    emotion_labels = dspy.OutputField(desc=\"\"\"Predicted emotions\"\"\")"
   ]
  },
  {
   "cell_type": "code",
   "execution_count": null,
   "id": "13",
   "metadata": {},
   "outputs": [],
   "source": [
    "predictor = dspy.Predict(EmotionSignature)"
   ]
  },
  {
   "cell_type": "code",
   "execution_count": null,
   "id": "14",
   "metadata": {},
   "outputs": [],
   "source": [
    "predictor(sentence=dataset_emotions[\"test\"][3][\"text\"])"
   ]
  },
  {
   "cell_type": "code",
   "execution_count": null,
   "id": "15",
   "metadata": {},
   "outputs": [],
   "source": [
    "dataset_emotions[\"test\"][3][\"labels\"]"
   ]
  },
  {
   "cell_type": "code",
   "execution_count": null,
   "id": "16",
   "metadata": {},
   "outputs": [],
   "source": [
    "class Emotion(dspy.Signature):\n",
    "    \"\"\"Classify emotion among sadness, joy, love, anger, fear, surprise.\"\"\"\n",
    "\n",
    "    sentence = dspy.InputField()\n",
    "    sentiment = dspy.OutputField()\n",
    "\n",
    "\n",
    "sentence = \"i started feeling a little vulnerable when the giant spotlight started blinding me\"  # from dair-ai/emotion\n",
    "\n",
    "classify = dspy.Predict(Emotion)\n",
    "classify(sentence=sentence)"
   ]
  },
  {
   "cell_type": "code",
   "execution_count": null,
   "id": "17",
   "metadata": {},
   "outputs": [],
   "source": []
  }
 ],
 "metadata": {
  "kernelspec": {
   "display_name": "Python 3",
   "language": "python",
   "name": "python3"
  },
  "language_info": {
   "codemirror_mode": {
    "name": "ipython",
    "version": 2
   },
   "file_extension": ".py",
   "mimetype": "text/x-python",
   "name": "python",
   "nbconvert_exporter": "python",
   "pygments_lexer": "ipython2",
   "version": "2.7.6"
  }
 },
 "nbformat": 4,
 "nbformat_minor": 5
}
