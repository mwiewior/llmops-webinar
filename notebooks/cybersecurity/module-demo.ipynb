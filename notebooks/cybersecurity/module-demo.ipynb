{
 "cells": [
  {
   "cell_type": "code",
   "execution_count": null,
   "id": "0",
   "metadata": {},
   "outputs": [],
   "source": [
    "%env DSP_CACHEBOOL=False"
   ]
  },
  {
   "cell_type": "code",
   "execution_count": null,
   "id": "1",
   "metadata": {},
   "outputs": [],
   "source": [
    "%run ./module-00-data-prep.ipynb\n",
    "train = train\n",
    "val = val\n",
    "test = test\n",
    "len(train), len(val), len(test)"
   ]
  },
  {
   "cell_type": "markdown",
   "id": "2",
   "metadata": {},
   "source": [
    "## Demo with GPT4-o"
   ]
  },
  {
   "cell_type": "code",
   "execution_count": null,
   "id": "3",
   "metadata": {},
   "outputs": [],
   "source": [
    "import logging\n",
    "import sys\n",
    "\n",
    "logging.disable(sys.maxsize)\n",
    "MODEL = \"gpt-4o-ai-factory\"\n",
    "API_BASE = \"https://aifactorydemo8563613420.openai.azure.com/openai/deployments/gpt-4o-ai-factory/chat/completions?api-version=2023-03-15-preview\"\n",
    "API_VERSION = \"2023-03-15-preview\""
   ]
  },
  {
   "cell_type": "code",
   "execution_count": null,
   "id": "4",
   "metadata": {},
   "outputs": [],
   "source": [
    "import dspy\n",
    "\n",
    "lm = dspy.AzureOpenAI(\n",
    "    api_base=API_BASE,\n",
    "    api_version=API_VERSION,\n",
    "    deployment_id=MODEL,\n",
    ")\n",
    "dspy.configure(lm=lm)\n",
    "dspy.settings.configure(lm=lm)"
   ]
  },
  {
   "cell_type": "code",
   "execution_count": null,
   "id": "5",
   "metadata": {},
   "outputs": [],
   "source": [
    "class SMSClassifierNaiveSignature(dspy.Signature):\n",
    "    \"\"\"\n",
    "    Given an SMS text, predict whether it is ham, spam, or smishing.\n",
    "    Output only the predicted label.\n",
    "    \"\"\"\n",
    "\n",
    "    text = dspy.InputField(desc=\"The SMS text to classify\")\n",
    "    label = dspy.OutputField(desc=\"The predicted label\")"
   ]
  },
  {
   "cell_type": "code",
   "execution_count": null,
   "id": "6",
   "metadata": {},
   "outputs": [],
   "source": [
    "classifier = dspy.Predict(SMSClassifierNaiveSignature)"
   ]
  },
  {
   "cell_type": "code",
   "execution_count": null,
   "id": "7",
   "metadata": {},
   "outputs": [],
   "source": [
    "from sms_classifier import SMSClassifier\n",
    "\n",
    "sms_classifier = SMSClassifier(lm)"
   ]
  },
  {
   "cell_type": "code",
   "execution_count": null,
   "id": "8",
   "metadata": {},
   "outputs": [],
   "source": [
    "from datetime import datetime\n",
    "\n",
    "from evaluation_helpers import validate_answer\n",
    "from langfuse_extensions import EvaluateWithLangfuse\n",
    "\n",
    "TIMESTAMP = f\"{int(datetime.now().timestamp())}\"\n",
    "session = f\"Run-{MODEL}-{TIMESTAMP}\"\n",
    "print(session)\n",
    "# from evaluation_helpers import EvaluateWithLangfuse\n",
    "evaluator = EvaluateWithLangfuse(\n",
    "    devset=test, num_threads=1, display_progress=True, run_id=session\n",
    ")\n",
    "evaluator(sms_classifier, metric=validate_answer)"
   ]
  },
  {
   "cell_type": "code",
   "execution_count": null,
   "id": "9",
   "metadata": {},
   "outputs": [],
   "source": [
    "from evaluation_helpers import calculate_metrics, fetch_traces\n",
    "from sms_classifier import Label\n",
    "\n",
    "classes = [l.value for l in Label]"
   ]
  },
  {
   "cell_type": "code",
   "execution_count": null,
   "id": "10",
   "metadata": {},
   "outputs": [],
   "source": [
    "# Run-gpt-4o-ai-factory-1729432239\n",
    "traces_gpt_4 = fetch_traces(run_id=\"Run-gpt-4o-ai-factory-1729432239\")\n",
    "metrics_gpt_4 = calculate_metrics(traces_gpt_4, classes)\n",
    "metrics_gpt_4[\"macro\"]"
   ]
  }
 ],
 "metadata": {
  "kernelspec": {
   "display_name": "Python 3",
   "language": "python",
   "name": "python3"
  },
  "language_info": {
   "codemirror_mode": {
    "name": "ipython",
    "version": 2
   },
   "file_extension": ".py",
   "mimetype": "text/x-python",
   "name": "python",
   "nbconvert_exporter": "python",
   "pygments_lexer": "ipython2",
   "version": "2.7.6"
  }
 },
 "nbformat": 4,
 "nbformat_minor": 5
}
