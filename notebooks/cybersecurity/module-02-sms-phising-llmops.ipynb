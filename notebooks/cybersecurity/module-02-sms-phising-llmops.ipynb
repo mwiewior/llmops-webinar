{
 "cells": [
  {
   "cell_type": "markdown",
   "id": "0",
   "metadata": {},
   "source": [
    "## Environment setup\n"
   ]
  },
  {
   "cell_type": "code",
   "execution_count": null,
   "id": "1",
   "metadata": {},
   "outputs": [],
   "source": [
    "%env DSP_CACHEBOOL=false"
   ]
  },
  {
   "cell_type": "code",
   "execution_count": null,
   "id": "2",
   "metadata": {},
   "outputs": [],
   "source": [
    "import logging\n",
    "\n",
    "logging.basicConfig(encoding=\"utf-8\", level=logging.INFO)"
   ]
  },
  {
   "cell_type": "code",
   "execution_count": null,
   "id": "3",
   "metadata": {},
   "outputs": [],
   "source": [
    "%run ./module-00-data-prep.ipynb\n",
    "train = train\n",
    "val = val\n",
    "test = test\n",
    "len(train), len(val), len(test)"
   ]
  },
  {
   "cell_type": "markdown",
   "id": "4",
   "metadata": {},
   "source": [
    "## Model connection\n",
    "### Models\n",
    "* llama3.2:3b\n",
    "* llama3.1:8b\n",
    "* gemma2:9b"
   ]
  },
  {
   "cell_type": "code",
   "execution_count": null,
   "id": "5",
   "metadata": {},
   "outputs": [],
   "source": [
    "import dspy\n",
    "\n",
    "# MODEL = \"llama3.2:3b-instruct-fp16\"\n",
    "# MODEL = \"gemma2:2b\"\n",
    "# MODEL = \"qwen2.5:0.5b\"\n",
    "# MODEL = \"qwen2.5:1.5b\"\n",
    "# MODEL = \"qwen2.5:3b\"\n",
    "# MODEL = \"qwen2.5:7b\"\n",
    "# MODEL = \"gemma2:9b\"\n",
    "MODEL = \"llama3.1:8b\"\n",
    "\n",
    "lm = dspy.OllamaLocal(\n",
    "    model=MODEL,\n",
    ")\n",
    "dspy.configure(lm=lm)\n",
    "\n",
    "dspy.settings.configure(lm=lm)\n",
    "dspy.configure(experimental=True)"
   ]
  },
  {
   "cell_type": "code",
   "execution_count": null,
   "id": "6",
   "metadata": {},
   "outputs": [],
   "source": [
    "from sms_classifier import Input, Output\n",
    "\n",
    "\n",
    "class SMSClassifierSignature(dspy.Signature):\n",
    "    \"\"\"\n",
    "    Given an SMS text, predict whether it is ham, spam, or smishing.\n",
    "    Output only the predicted label.\n",
    "    \"\"\"\n",
    "\n",
    "    input: Input = dspy.InputField()\n",
    "    output: Output = dspy.OutputField()"
   ]
  },
  {
   "cell_type": "code",
   "execution_count": null,
   "id": "7",
   "metadata": {},
   "outputs": [],
   "source": [
    "class SMSClassifier(dspy.Module):\n",
    "    def __init__(self, lm):\n",
    "        self.lm = lm\n",
    "        super().__init__()\n",
    "        dspy.configure(lm=lm)\n",
    "        self.generate_answer = dspy.TypedPredictor(\n",
    "            SMSClassifierSignature, max_retries=5\n",
    "        )\n",
    "\n",
    "    def forward(self, input):\n",
    "        return self.generate_answer(input=input)\n",
    "\n",
    "\n",
    "sms_classifier = SMSClassifier(lm)"
   ]
  },
  {
   "cell_type": "code",
   "execution_count": null,
   "id": "8",
   "metadata": {},
   "outputs": [],
   "source": [
    "from datetime import datetime\n",
    "\n",
    "from evaluation_helpers import validate_answer\n",
    "from langfuse_extensions import EvaluateWithLangfuse\n",
    "\n",
    "session = f\"Run-{MODEL}-{int(datetime.now().timestamp())}\"\n",
    "print(session)\n",
    "# from evaluation_helpers import EvaluateWithLangfuse\n",
    "evaluator = EvaluateWithLangfuse(\n",
    "    devset=test, num_threads=1, display_progress=True, run_id=session\n",
    ")\n",
    "evaluator(sms_classifier, metric=validate_answer)"
   ]
  },
  {
   "cell_type": "code",
   "execution_count": null,
   "id": "9",
   "metadata": {},
   "outputs": [],
   "source": [
    "from dspy.teleprompt import BootstrapFewShotWithRandomSearch\n",
    "from evaluation_helpers import validate_answer\n",
    "\n",
    "config = dict(\n",
    "    max_bootstrapped_demos=4,\n",
    "    max_labeled_demos=8,\n",
    "    num_candidate_programs=16,\n",
    "    num_threads=1,\n",
    "    max_errors=10,\n",
    ")\n",
    "\n",
    "teleprompter = BootstrapFewShotWithRandomSearch(metric=validate_answer, **config)\n",
    "optimized_program = teleprompter.compile(sms_classifier, trainset=train[:100])"
   ]
  },
  {
   "cell_type": "code",
   "execution_count": null,
   "id": "10",
   "metadata": {},
   "outputs": [],
   "source": [
    "session = f\"Run-{MODEL}-optim-{int(datetime.now().timestamp())}\"\n",
    "print(session)\n",
    "evaluator = EvaluateWithLangfuse(\n",
    "    devset=test, num_threads=1, display_progress=True, run_id=session\n",
    ")\n",
    "evaluator(optimized_program, metric=validate_answer)"
   ]
  },
  {
   "cell_type": "code",
   "execution_count": null,
   "id": "11",
   "metadata": {},
   "outputs": [],
   "source": [
    "optimized_program.save(\"programs/sms_classifier-qwen2.5-3b.json\")"
   ]
  },
  {
   "cell_type": "code",
   "execution_count": null,
   "id": "12",
   "metadata": {},
   "outputs": [],
   "source": []
  }
 ],
 "metadata": {
  "kernelspec": {
   "display_name": "Python 3",
   "language": "python",
   "name": "python3"
  },
  "language_info": {
   "codemirror_mode": {
    "name": "ipython",
    "version": 2
   },
   "file_extension": ".py",
   "mimetype": "text/x-python",
   "name": "python",
   "nbconvert_exporter": "python",
   "pygments_lexer": "ipython2",
   "version": "2.7.6"
  }
 },
 "nbformat": 4,
 "nbformat_minor": 5
}
