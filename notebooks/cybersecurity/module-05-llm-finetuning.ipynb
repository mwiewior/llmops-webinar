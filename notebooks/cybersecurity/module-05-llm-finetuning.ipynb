{
 "cells": [
  {
   "cell_type": "markdown",
   "id": "0",
   "metadata": {},
   "source": [
    "### Fine-tuning a LLM model with mlx-lm\n",
    "\n",
    "We use Low-Rank Adaptation (LoRA) is a PEFT method that decomposes a large matrix into two smaller low-rank matrices in the attention layers. \n",
    "This drastically reduces the number of parameters that need to be fine-tuned. We can combine LoRA and quantization (QLoRA) to further reduce the number of parameters and memory footprint of the model.\n",
    "\n",
    "Some most important parameters to consider when fine-tuning a LLM model are:"
   ]
  },
  {
   "cell_type": "markdown",
   "id": "1",
   "metadata": {},
   "source": [
    "```yaml\n",
    "learning_rate: 1e-6\n",
    "\n",
    "lora_parameters:\n",
    "  keys: ['mlp.gate_proj', 'mlp.down_proj', 'self_attn.q_proj', 'mlp.up_proj', 'self_attn.o_proj','self_attn.v_proj', 'self_attn.k_proj']\n",
    "  alpha: 256\n",
    "  rank: 128\n",
    "  scale: 10.0\n",
    "  dropout: 0.1\n",
    "\n",
    "lr_schedule:\n",
    "  name: cosine_decay\n",
    "  warmup: 100 # 0 for no warmup\n",
    "  warmup_init: 1e-7 # 0 if not specified\n",
    "  arguments: [1e-5, 10000, 1e-7] # passed to scheduler\n",
    "```"
   ]
  },
  {
   "cell_type": "code",
   "execution_count": null,
   "id": "2",
   "metadata": {},
   "outputs": [],
   "source": [
    "%%bash\n",
    "mlx_lm.lora --config mlx-lora-llama3.1-8b.yaml  "
   ]
  },
  {
   "cell_type": "markdown",
   "id": "3",
   "metadata": {},
   "source": [
    "```text\n",
    "Trainable parameters: 4.178% (335.544M/8030.261M)\n",
    "```"
   ]
  },
  {
   "cell_type": "markdown",
   "id": "4",
   "metadata": {},
   "source": [
    "## Create a new LLM model in GGUF format with Q4_0 quantization\n",
    "### Modelfile\n",
    "```text\n",
    "FROM /tmp/Meta-Llama-3.1-8B-Instruct\n",
    "ADAPTER /tmp/finetune/adapters/\n",
    "```\n",
    "Here we create a model in GGUF format with Q4_0 quantization.\n",
    "```bash\n",
    "ollama create llama3.1:8b-cyber -q q4_0\n",
    "```"
   ]
  }
 ],
 "metadata": {
  "kernelspec": {
   "display_name": "Python 3",
   "language": "python",
   "name": "python3"
  },
  "language_info": {
   "codemirror_mode": {
    "name": "ipython",
    "version": 2
   },
   "file_extension": ".py",
   "mimetype": "text/x-python",
   "name": "python",
   "nbconvert_exporter": "python",
   "pygments_lexer": "ipython2",
   "version": "2.7.6"
  }
 },
 "nbformat": 4,
 "nbformat_minor": 5
}
