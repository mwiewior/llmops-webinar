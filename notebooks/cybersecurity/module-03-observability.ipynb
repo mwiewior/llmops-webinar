{
 "cells": [
  {
   "cell_type": "markdown",
   "id": "0",
   "metadata": {},
   "source": [
    "## Analyze evaluation results"
   ]
  },
  {
   "cell_type": "code",
   "execution_count": null,
   "id": "1",
   "metadata": {},
   "outputs": [],
   "source": [
    "from evaluation_helpers import calculate_metrics, fetch_traces\n",
    "from sms_classifier import Label\n",
    "\n",
    "classes = [l.value for l in Label]"
   ]
  },
  {
   "cell_type": "markdown",
   "id": "2",
   "metadata": {},
   "source": [
    "## Baseline"
   ]
  },
  {
   "cell_type": "code",
   "execution_count": null,
   "id": "3",
   "metadata": {},
   "outputs": [],
   "source": [
    "# Run-qwen2.5:0.5b-1729425728\n",
    "traces_qwen25_0_5 = fetch_traces(run_id=\"Run-qwen2.5:0.5b-1729425728\")\n",
    "metrics_qwen25_0_5 = calculate_metrics(traces_qwen25_0_5, classes)\n",
    "metrics_qwen25_0_5[\"macro\"]"
   ]
  },
  {
   "cell_type": "code",
   "execution_count": null,
   "id": "4",
   "metadata": {},
   "outputs": [],
   "source": [
    "# Run-qwen2.5:1.5b-1729430987\n",
    "traces_qwen25_1_5 = fetch_traces(run_id=\"Run-qwen2.5:1.5b-1729430987\")\n",
    "metrics_qwen25_1_5 = calculate_metrics(traces_qwen25_1_5, classes)\n",
    "metrics_qwen25_1_5[\"macro\"]"
   ]
  },
  {
   "cell_type": "code",
   "execution_count": null,
   "id": "5",
   "metadata": {},
   "outputs": [],
   "source": [
    "# Run-qwen2.5:3b-1729431832\n",
    "traces_qwen25_3 = fetch_traces(run_id=\"Run-qwen2.5:3b-1729431832\")\n",
    "metrics_qwen25_3 = calculate_metrics(traces_qwen25_3, classes)\n",
    "metrics_qwen25_3[\"macro\"]"
   ]
  },
  {
   "cell_type": "code",
   "execution_count": null,
   "id": "6",
   "metadata": {},
   "outputs": [],
   "source": [
    "# Run-qwen2.5:7b-1729432095\n",
    "traces_qwen25_7 = fetch_traces(run_id=\"Run-qwen2.5:7b-1729432095\")\n",
    "metrics_qwen25_7 = calculate_metrics(traces_qwen25_7, classes)\n",
    "metrics_qwen25_7[\"macro\"]"
   ]
  },
  {
   "cell_type": "code",
   "execution_count": null,
   "id": "7",
   "metadata": {},
   "outputs": [],
   "source": [
    "# Run-gemma2:9b-1729433837\n",
    "traces_gemma2_9 = fetch_traces(run_id=\"Run-gemma2:9b-1729433837\")\n",
    "metrics_gemma2_9 = calculate_metrics(traces_gemma2_9, classes)\n",
    "metrics_gemma2_9[\"macro\"]"
   ]
  },
  {
   "cell_type": "code",
   "execution_count": null,
   "id": "8",
   "metadata": {},
   "outputs": [],
   "source": [
    "# Run-llama3.1:8b-1729435232\n",
    "traces_llama31_8 = fetch_traces(run_id=\"Run-llama3.1:8b-1729435232\")\n",
    "metrics_llama31_8 = calculate_metrics(traces_llama31_8, classes)\n",
    "metrics_llama31_8[\"macro\"]"
   ]
  },
  {
   "cell_type": "code",
   "execution_count": null,
   "id": "9",
   "metadata": {},
   "outputs": [],
   "source": [
    "# Run-gpt-4o-ai-factory-1729432239\n",
    "traces_gpt_4 = fetch_traces(run_id=\"Run-gpt-4o-ai-factory-1729432239\")\n",
    "metrics_gpt_4 = calculate_metrics(traces_gpt_4, classes)\n",
    "metrics_gpt_4[\"macro\"]"
   ]
  },
  {
   "cell_type": "code",
   "execution_count": null,
   "id": "10",
   "metadata": {},
   "outputs": [],
   "source": [
    "# Run-llama3.1:8b-cyber-1-1729541385\n",
    "traces_llama31_8_cyber = fetch_traces(run_id=\"Run-llama3.1:8b-cyber-1-1729541385\")\n",
    "metrics_llama31_8_cyber = calculate_metrics(traces_llama31_8_cyber, classes)\n",
    "metrics_llama31_8_cyber[\"macro\"]"
   ]
  },
  {
   "cell_type": "code",
   "execution_count": null,
   "id": "11",
   "metadata": {},
   "outputs": [],
   "source": [
    "# Run-llama3.1:8b-cyber-1-1729567899\n",
    "traces_llama31_8_cyber = fetch_traces(run_id=\"Run-llama3.1:8b-cyber-1-1729567899\")\n",
    "metrics_llama31_8_cyber = calculate_metrics(traces_llama31_8_cyber, classes)\n",
    "metrics_llama31_8_cyber[\"macro\"]"
   ]
  },
  {
   "cell_type": "code",
   "execution_count": null,
   "id": "12",
   "metadata": {},
   "outputs": [],
   "source": [
    "metrics_baseline = dict()\n",
    "metrics_baseline[\"qwen2.5:0.5b\"] = metrics_qwen25_0_5[\"macro\"]\n",
    "metrics_baseline[\"qwen2.5:1.5b\"] = metrics_qwen25_1_5[\"macro\"]\n",
    "metrics_baseline[\"qwen2.5:3b\"] = metrics_qwen25_3[\"macro\"]\n",
    "metrics_baseline[\"qwen2.5:7b\"] = metrics_qwen25_7[\"macro\"]\n",
    "metrics_baseline[\"gemma2:9b\"] = metrics_gemma2_9[\"macro\"]\n",
    "metrics_baseline[\"llama3.1:8b\"] = metrics_llama31_8[\"macro\"]\n",
    "metrics_baseline[\"llama3.1:8b-cyber\"] = metrics_llama31_8_cyber[\"macro\"]\n",
    "metrics_baseline[\"gpt-4o-ai-factory\"] = metrics_gpt_4[\"macro\"]"
   ]
  },
  {
   "cell_type": "code",
   "execution_count": null,
   "id": "13",
   "metadata": {},
   "outputs": [],
   "source": [
    "from evaluation_helpers import plot_metrics\n",
    "\n",
    "plot_metrics(\n",
    "    metrics_baseline,\n",
    "    [\"Precision\", \"Recall\", \"F1\"],\n",
    "    \"Scores by model before optimization\",\n",
    ")"
   ]
  },
  {
   "cell_type": "markdown",
   "id": "14",
   "metadata": {},
   "source": []
  }
 ],
 "metadata": {
  "kernelspec": {
   "display_name": "Python 3",
   "language": "python",
   "name": "python3"
  },
  "language_info": {
   "codemirror_mode": {
    "name": "ipython",
    "version": 2
   },
   "file_extension": ".py",
   "mimetype": "text/x-python",
   "name": "python",
   "nbconvert_exporter": "python",
   "pygments_lexer": "ipython2",
   "version": "2.7.6"
  }
 },
 "nbformat": 4,
 "nbformat_minor": 5
}
