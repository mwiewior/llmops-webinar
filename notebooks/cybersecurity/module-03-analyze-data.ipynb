{
 "cells": [
  {
   "cell_type": "markdown",
   "id": "0",
   "metadata": {},
   "source": [
    "## Analyze data for a Run"
   ]
  },
  {
   "cell_type": "code",
   "execution_count": null,
   "id": "1",
   "metadata": {},
   "outputs": [],
   "source": [
    "from sms_classifier import Label\n",
    "\n",
    "classes = [l.value for l in Label]"
   ]
  },
  {
   "cell_type": "code",
   "execution_count": null,
   "id": "2",
   "metadata": {},
   "outputs": [],
   "source": [
    "from evaluation_helpers import calculate_metrics, fetch_traces"
   ]
  },
  {
   "cell_type": "code",
   "execution_count": null,
   "id": "3",
   "metadata": {},
   "outputs": [],
   "source": [
    "# Run-gpt-4o-ai-factory-1729432239\n",
    "traces_gpt_4 = fetch_traces(run_id=\"Run-gpt-4o-ai-factory-1729432239\")\n",
    "metrics_gpt_4 = calculate_metrics(traces_gpt_4, classes)\n",
    "metrics_gpt_4[\"macro\"]"
   ]
  },
  {
   "cell_type": "code",
   "execution_count": null,
   "id": "4",
   "metadata": {},
   "outputs": [],
   "source": [
    "traces_qwen25_0_5 = fetch_traces(run_id=\"Run-qwen2.5:0.5b-1729425728\")\n",
    "metrics_qwen25_0_5 = calculate_metrics(traces_qwen25_0_5, classes)\n",
    "metrics_qwen25_0_5[\"macro\"]"
   ]
  },
  {
   "cell_type": "code",
   "execution_count": null,
   "id": "5",
   "metadata": {},
   "outputs": [],
   "source": [
    "traces_qwen25_1_5 = fetch_traces(run_id=\"Run-qwen2.5:1.5b-1729430987\")\n",
    "metrics_qwen25_1_5 = calculate_metrics(traces_qwen25_1_5, classes)\n",
    "metrics_qwen25_1_5[\"macro\"]"
   ]
  },
  {
   "cell_type": "code",
   "execution_count": null,
   "id": "6",
   "metadata": {},
   "outputs": [],
   "source": [
    "# Run-qwen2.5:3b-1729431832\n",
    "traces_qwen25_3 = fetch_traces(run_id=\"Run-qwen2.5:3b-1729431832\")\n",
    "metrics_qwen25_3 = calculate_metrics(traces_qwen25_3, classes)\n",
    "metrics_qwen25_3[\"macro\"]"
   ]
  },
  {
   "cell_type": "code",
   "execution_count": null,
   "id": "7",
   "metadata": {},
   "outputs": [],
   "source": [
    "# Run-qwen2.5:7b-1729432095\n",
    "traces_qwen25_7 = fetch_traces(run_id=\"Run-qwen2.5:7b-1729432095\")\n",
    "metrics_qwen25_7 = calculate_metrics(traces_qwen25_7, classes)\n",
    "metrics_qwen25_7[\"macro\"]"
   ]
  }
 ],
 "metadata": {
  "kernelspec": {
   "display_name": "Python 3",
   "language": "python",
   "name": "python3"
  },
  "language_info": {
   "codemirror_mode": {
    "name": "ipython",
    "version": 2
   },
   "file_extension": ".py",
   "mimetype": "text/x-python",
   "name": "python",
   "nbconvert_exporter": "python",
   "pygments_lexer": "ipython2",
   "version": "2.7.6"
  }
 },
 "nbformat": 4,
 "nbformat_minor": 5
}
