{
 "cells": [
  {
   "cell_type": "markdown",
   "id": "0",
   "metadata": {},
   "source": [
    "## Analyze data for a Run"
   ]
  },
  {
   "cell_type": "code",
   "execution_count": null,
   "id": "1",
   "metadata": {},
   "outputs": [],
   "source": [
    "from evaluation_helpers import calculate_metrics, fetch_traces\n",
    "from sms_classifier import Label\n",
    "\n",
    "classes = [l.value for l in Label]"
   ]
  },
  {
   "cell_type": "markdown",
   "id": "2",
   "metadata": {},
   "source": [
    "## Baseline"
   ]
  },
  {
   "cell_type": "code",
   "execution_count": null,
   "id": "3",
   "metadata": {},
   "outputs": [],
   "source": [
    "# Run-qwen2.5:0.5b-1729425728\n",
    "traces_qwen25_0_5 = fetch_traces(run_id=\"Run-qwen2.5:0.5b-1729425728\")\n",
    "metrics_qwen25_0_5 = calculate_metrics(traces_qwen25_0_5, classes)\n",
    "metrics_qwen25_0_5[\"macro\"]"
   ]
  },
  {
   "cell_type": "code",
   "execution_count": null,
   "id": "4",
   "metadata": {},
   "outputs": [],
   "source": [
    "# Run-qwen2.5:1.5b-1729430987\n",
    "traces_qwen25_1_5 = fetch_traces(run_id=\"Run-qwen2.5:1.5b-1729430987\")\n",
    "metrics_qwen25_1_5 = calculate_metrics(traces_qwen25_1_5, classes)\n",
    "metrics_qwen25_1_5[\"macro\"]"
   ]
  },
  {
   "cell_type": "code",
   "execution_count": null,
   "id": "5",
   "metadata": {},
   "outputs": [],
   "source": [
    "# Run-qwen2.5:3b-1729431832\n",
    "traces_qwen25_3 = fetch_traces(run_id=\"Run-qwen2.5:3b-1729431832\")\n",
    "metrics_qwen25_3 = calculate_metrics(traces_qwen25_3, classes)\n",
    "metrics_qwen25_3[\"macro\"]"
   ]
  },
  {
   "cell_type": "code",
   "execution_count": null,
   "id": "6",
   "metadata": {},
   "outputs": [],
   "source": [
    "# Run-qwen2.5:7b-1729432095\n",
    "traces_qwen25_7 = fetch_traces(run_id=\"Run-qwen2.5:7b-1729432095\")\n",
    "metrics_qwen25_7 = calculate_metrics(traces_qwen25_7, classes)\n",
    "metrics_qwen25_7[\"macro\"]"
   ]
  },
  {
   "cell_type": "code",
   "execution_count": null,
   "id": "7",
   "metadata": {},
   "outputs": [],
   "source": [
    "# Run-gemma2:9b-1729433837\n",
    "traces_gemma2_9 = fetch_traces(run_id=\"Run-gemma2:9b-1729433837\")\n",
    "metrics_gemma2_9 = calculate_metrics(traces_gemma2_9, classes)\n",
    "metrics_gemma2_9[\"macro\"]"
   ]
  },
  {
   "cell_type": "code",
   "execution_count": null,
   "id": "8",
   "metadata": {},
   "outputs": [],
   "source": [
    "# Run-llama3.1:8b-1729435232\n",
    "traces_llama31_8 = fetch_traces(run_id=\"Run-llama3.1:8b-1729435232\")\n",
    "metrics_llama31_8 = calculate_metrics(traces_llama31_8, classes)\n",
    "metrics_llama31_8[\"macro\"]"
   ]
  },
  {
   "cell_type": "code",
   "execution_count": null,
   "id": "9",
   "metadata": {},
   "outputs": [],
   "source": [
    "# Run-gpt-4o-ai-factory-1729432239\n",
    "traces_gpt_4 = fetch_traces(run_id=\"Run-gpt-4o-ai-factory-1729432239\")\n",
    "metrics_gpt_4 = calculate_metrics(traces_gpt_4, classes)\n",
    "metrics_gpt_4[\"macro\"]"
   ]
  },
  {
   "cell_type": "code",
   "execution_count": null,
   "id": "10",
   "metadata": {},
   "outputs": [],
   "source": [
    "metrics_baseline = dict()\n",
    "metrics_baseline[\"qwen2.5:0.5b\"] = metrics_qwen25_0_5[\"macro\"]\n",
    "metrics_baseline[\"qwen2.5:1.5b\"] = metrics_qwen25_1_5[\"macro\"]\n",
    "metrics_baseline[\"qwen2.5:3b\"] = metrics_qwen25_3[\"macro\"]\n",
    "metrics_baseline[\"qwen2.5:7b\"] = metrics_qwen25_7[\"macro\"]\n",
    "metrics_baseline[\"gemma2:9b\"] = metrics_gemma2_9[\"macro\"]\n",
    "metrics_baseline[\"llama3.1:8b\"] = metrics_llama31_8[\"macro\"]\n",
    "metrics_baseline[\"gpt-4o-ai-factory\"] = metrics_gpt_4[\"macro\"]"
   ]
  },
  {
   "cell_type": "code",
   "execution_count": null,
   "id": "11",
   "metadata": {},
   "outputs": [],
   "source": [
    "import matplotlib.pyplot as plt\n",
    "import numpy as np\n",
    "\n",
    "\n",
    "def plot_metrics(metrics, labels, title):\n",
    "    x = np.arange(len(labels))  # the label locations\n",
    "    width = 0.10  # the width of the bars\n",
    "    fig, ax = plt.subplots()\n",
    "    k = 0\n",
    "    for m in metrics:\n",
    "        ax.bar(\n",
    "            x + width * k,\n",
    "            [metrics[m][\"precision\"], metrics[m][\"recall\"], metrics[m][\"f1\"]],\n",
    "            width,\n",
    "            label=m,\n",
    "        )\n",
    "        k += 1\n",
    "    ax.set_xticks(x)\n",
    "    ax.set_xticklabels(labels)\n",
    "    ax.set_ylabel(\"Scores\")\n",
    "    ax.set_title(title)\n",
    "    ax.legend(loc=\"upper center\", bbox_to_anchor=(0.5, -0.05), shadow=True, ncol=4)\n",
    "    ax.grid(True)\n",
    "    fig.set_size_inches(10, 5)\n",
    "    plt.show()\n",
    "\n",
    "\n",
    "plot_metrics(\n",
    "    metrics_baseline,\n",
    "    [\"Precision\", \"Recall\", \"F1\"],\n",
    "    \"Scores by model before optimization\",\n",
    ")"
   ]
  },
  {
   "cell_type": "markdown",
   "id": "12",
   "metadata": {},
   "source": [
    "## After running the optimzation"
   ]
  },
  {
   "cell_type": "code",
   "execution_count": null,
   "id": "13",
   "metadata": {},
   "outputs": [],
   "source": [
    "# Run-qwen2.5:7b-optim-1729433657\n",
    "traces_qwen25_7_optim = fetch_traces(run_id=\"Run-qwen2.5:7b-optim-1729433657\")\n",
    "metrics_qwen25_7_optim = calculate_metrics(traces_qwen25_7_optim, classes)\n",
    "metrics_qwen25_7_optim[\"macro\"]"
   ]
  },
  {
   "cell_type": "code",
   "execution_count": null,
   "id": "14",
   "metadata": {},
   "outputs": [],
   "source": [
    "# Run-gemma2:9b-optim-1729434900\n",
    "traces_gemma2_9_optim = fetch_traces(run_id=\"Run-gemma2:9b-optim-1729434900\")\n",
    "metrics_gemma2_9_optim = calculate_metrics(traces_gemma2_9_optim, classes)\n",
    "metrics_gemma2_9_optim[\"macro\"]"
   ]
  },
  {
   "cell_type": "code",
   "execution_count": null,
   "id": "15",
   "metadata": {},
   "outputs": [],
   "source": [
    "# Run-llama3.1:8b-optim-1729436001\n",
    "traces_llama31_8_optim = fetch_traces(run_id=\"Run-llama3.1:8b-optim-1729436001\")\n",
    "metrics_llama31_8_optim = calculate_metrics(traces_llama31_8_optim, classes)\n",
    "metrics_llama31_8_optim[\"macro\"]"
   ]
  },
  {
   "cell_type": "code",
   "execution_count": null,
   "id": "16",
   "metadata": {},
   "outputs": [],
   "source": [
    "# Run-qwen2.5:1.5b-optim-1729436454\n",
    "traces_qwen25_1_5_optim = fetch_traces(run_id=\"Run-qwen2.5:1.5b-optim-1729436454\")\n",
    "metrics_qwen25_1_5_optim = calculate_metrics(traces_qwen25_1_5_optim, classes)\n",
    "metrics_qwen25_1_5_optim[\"macro\"]"
   ]
  },
  {
   "cell_type": "code",
   "execution_count": null,
   "id": "17",
   "metadata": {},
   "outputs": [],
   "source": [
    "# Run-qwen2.5:3b-optim-1729437009\n",
    "traces_qwen25_3_optim = fetch_traces(run_id=\"Run-qwen2.5:3b-optim-1729437009\")\n",
    "metrics_qwen25_3_optim = calculate_metrics(traces_qwen25_3_optim, classes)\n",
    "metrics_qwen25_3_optim[\"macro\"]"
   ]
  },
  {
   "cell_type": "code",
   "execution_count": null,
   "id": "18",
   "metadata": {},
   "outputs": [],
   "source": [
    "# Run-qwen2.5:0.5b-optim-1729437842\n",
    "traces_qwen25_0_5_optim = fetch_traces(run_id=\"Run-qwen2.5:0.5b-optim-1729437842\")\n",
    "metrics_qwen25_0_5_optim = calculate_metrics(traces_qwen25_0_5_optim, classes)\n",
    "metrics_qwen25_0_5_optim[\"macro\"]"
   ]
  },
  {
   "cell_type": "code",
   "execution_count": null,
   "id": "19",
   "metadata": {},
   "outputs": [],
   "source": [
    "metrics_optim = dict()\n",
    "metrics_optim[\"qwen2.5:0.5b\"] = metrics_qwen25_0_5_optim[\"macro\"]\n",
    "metrics_optim[\"qwen2.5:1.5b\"] = metrics_qwen25_1_5_optim[\"macro\"]\n",
    "metrics_optim[\"qwen2.5:3b\"] = metrics_qwen25_3_optim[\"macro\"]\n",
    "metrics_optim[\"qwen2.5:7b\"] = metrics_qwen25_7_optim[\"macro\"]\n",
    "metrics_optim[\"gemma2:9b\"] = metrics_gemma2_9_optim[\"macro\"]\n",
    "metrics_optim[\"llama3.1:8b\"] = metrics_llama31_8_optim[\"macro\"]\n",
    "metrics_optim[\"gpt-4o-ai-factory-baseline\"] = metrics_gpt_4[\"macro\"]"
   ]
  },
  {
   "cell_type": "code",
   "execution_count": null,
   "id": "20",
   "metadata": {},
   "outputs": [],
   "source": [
    "plot_metrics(\n",
    "    metrics_optim, [\"Precision\", \"Recall\", \"F1\"], \"Scores by model after optimization\"\n",
    ")"
   ]
  },
  {
   "cell_type": "code",
   "execution_count": null,
   "id": "21",
   "metadata": {},
   "outputs": [],
   "source": []
  }
 ],
 "metadata": {
  "kernelspec": {
   "display_name": "Python 3",
   "language": "python",
   "name": "python3"
  },
  "language_info": {
   "codemirror_mode": {
    "name": "ipython",
    "version": 2
   },
   "file_extension": ".py",
   "mimetype": "text/x-python",
   "name": "python",
   "nbconvert_exporter": "python",
   "pygments_lexer": "ipython2",
   "version": "2.7.6"
  }
 },
 "nbformat": 4,
 "nbformat_minor": 5
}
