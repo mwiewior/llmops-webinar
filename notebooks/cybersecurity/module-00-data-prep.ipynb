{
 "cells": [
  {
   "cell_type": "markdown",
   "id": "0",
   "metadata": {},
   "source": [
    "## Prepare train, validation and test datasets"
   ]
  },
  {
   "cell_type": "markdown",
   "id": "1",
   "metadata": {},
   "source": [
    "### Dataset \n",
    "Take a look at `data/sms_phishing.csv`"
   ]
  },
  {
   "cell_type": "markdown",
   "id": "2",
   "metadata": {},
   "source": [
    "## DSPy Examples"
   ]
  },
  {
   "cell_type": "code",
   "execution_count": null,
   "id": "3",
   "metadata": {},
   "outputs": [],
   "source": [
    "import polars as pl\n",
    "from sms_classifier import Input, Output\n",
    "\n",
    "df = pl.read_csv(\"../../data/sms_phishing.csv\")\n",
    "from dspy import Example\n",
    "\n",
    "examples = []\n",
    "for r in df.iter_rows(named=True):\n",
    "    examples.append(\n",
    "        Example(\n",
    "            input=Input(text=r[\"TEXT\"]), output=Output(label=r[\"LABEL\"].lower())\n",
    "        ).with_inputs(\"input\")\n",
    "    )"
   ]
  },
  {
   "cell_type": "code",
   "execution_count": null,
   "id": "4",
   "metadata": {},
   "outputs": [],
   "source": [
    "len(examples)"
   ]
  },
  {
   "cell_type": "markdown",
   "id": "5",
   "metadata": {},
   "source": [
    "### Split the dataset into train, val and test"
   ]
  },
  {
   "cell_type": "code",
   "execution_count": null,
   "id": "6",
   "metadata": {},
   "outputs": [],
   "source": [
    "TRAIN_PCT = 0.9666\n",
    "VAL_PCT = 0.0167\n",
    "TEST_PCT = 0.0167\n",
    "train = examples[: int(len(examples) * TRAIN_PCT)]\n",
    "val = examples[\n",
    "    int(len(examples) * TRAIN_PCT) : int(len(examples) * (TRAIN_PCT + VAL_PCT))\n",
    "]\n",
    "test = examples[int(len(examples) * (TRAIN_PCT + VAL_PCT)) :]"
   ]
  },
  {
   "cell_type": "code",
   "execution_count": null,
   "id": "7",
   "metadata": {},
   "outputs": [],
   "source": [
    "len(train), len(val), len(test)"
   ]
  },
  {
   "cell_type": "markdown",
   "id": "8",
   "metadata": {},
   "source": [
    "## Preparation of training dataset for LLM finetuning"
   ]
  },
  {
   "cell_type": "code",
   "execution_count": null,
   "id": "9",
   "metadata": {},
   "outputs": [],
   "source": [
    "import pandas as pd\n",
    "\n",
    "train_records = [\n",
    "    {\"text\": f\"{e.input.text}\", \"label\": e.output.label.value} for e in train\n",
    "]\n",
    "df = pd.DataFrame(train_records)"
   ]
  },
  {
   "cell_type": "code",
   "execution_count": null,
   "id": "10",
   "metadata": {},
   "outputs": [],
   "source": [
    "len(df)"
   ]
  },
  {
   "cell_type": "code",
   "execution_count": null,
   "id": "11",
   "metadata": {},
   "outputs": [],
   "source": [
    "df.to_csv(\"../../finetune/data/sms_phising.csv\", index=False)"
   ]
  },
  {
   "cell_type": "code",
   "execution_count": null,
   "id": "12",
   "metadata": {},
   "outputs": [],
   "source": [
    "import json\n",
    "\n",
    "with open(\"../../finetune/data/sms_phising.json\", \"w\") as f:\n",
    "    json.dump(train_records, f, indent=4)"
   ]
  },
  {
   "cell_type": "code",
   "execution_count": null,
   "id": "13",
   "metadata": {},
   "outputs": [],
   "source": [
    "chat_template = \"\"\"{{\"messages\": [ {{\"role\": \"system\", \"content\": \"{system_prompt}\" }},{{\"role\": \"user\", \"content\": \"{user_question}\"}},{{\"role\": \"assistant\", \"content\": \"{model_answer}\"}}] }}\"\"\"\n",
    "\n",
    "# completions\n",
    "completion_template = (\n",
    "    \"\"\"{{\"prompt\": \"{user_question}\", \"completion\": \"{model_answer}\"}}\"\"\"\n",
    ")\n",
    "\n",
    "text_template = \"\"\"{{\"text\": \"{user_question}\" }}\"\"\"\n",
    "\n",
    "text_template_with_inst = (\n",
    "    \"\"\"{{\"text\": \"<s>[INST]{user_question}[/INST]{model_answer}</s>\" }}\"\"\"\n",
    ")\n",
    "\n",
    "text_template_llama = \"\"\"{{\"text\": \"<|begin_of_text|><|start_header_id|>user<|end_header_id|>{user_question}<|eot_id|><|start_header_id|>assistant<|end_header_id|>{model_answer}<|end_of_text|>\"}}\"\"\"\n",
    "\n",
    "naive_template = \"\"\"{{\"input\": \"{user_question}\", \"output\": \"{model_answer}\" }}\"\"\"\n",
    "\n",
    "formatted_data = []\n",
    "system_prompt = \"You are a Cybersecurity assistant.Given an SMS text, predict whether it is ham, spam, or smishing.Output only the predicted label.\"\n",
    "\n",
    "template = chat_template\n",
    "with open(\"../../finetune/data/train.jsonl\", \"w\", encoding=\"utf-8\") as new_file:\n",
    "    for term in train_records:\n",
    "        temp_data_0 = template.format(\n",
    "            system_prompt=system_prompt,\n",
    "            user_question=f\"\"\"{term['text'].replace('\"',\"\")}\"\"\",\n",
    "            model_answer=term[\"label\"],\n",
    "        )\n",
    "        try:\n",
    "            # Try to load the JSON object\n",
    "            json.loads(temp_data_0)\n",
    "        except json.JSONDecodeError as e:\n",
    "            pass\n",
    "        else:\n",
    "            new_file.write(temp_data_0)\n",
    "            new_file.write(\"\\n\")"
   ]
  },
  {
   "cell_type": "code",
   "execution_count": null,
   "id": "14",
   "metadata": {},
   "outputs": [],
   "source": [
    "import json\n",
    "\n",
    "\n",
    "def validate_jsonl(file_path):\n",
    "    i = 0\n",
    "    with open(file_path, \"r\", encoding=\"utf-8\") as f:\n",
    "        for line_num, line in enumerate(f, 1):\n",
    "            try:\n",
    "                # Try to load the JSON object\n",
    "                json.loads(line)\n",
    "            except json.JSONDecodeError as e:\n",
    "                print(f\"Invalid JSON on line {line_num}: {e}\")\n",
    "                i += 1\n",
    "            else:\n",
    "                pass\n",
    "        print(i)\n",
    "\n",
    "\n",
    "# Example usage\n",
    "file_path = \"../../finetune/data/train.jsonl\"\n",
    "validate_jsonl(file_path)"
   ]
  },
  {
   "cell_type": "code",
   "execution_count": null,
   "id": "15",
   "metadata": {},
   "outputs": [],
   "source": []
  }
 ],
 "metadata": {
  "kernelspec": {
   "display_name": "Python 3",
   "language": "python",
   "name": "python3"
  },
  "language_info": {
   "codemirror_mode": {
    "name": "ipython",
    "version": 2
   },
   "file_extension": ".py",
   "mimetype": "text/x-python",
   "name": "python",
   "nbconvert_exporter": "python",
   "pygments_lexer": "ipython2",
   "version": "2.7.6"
  }
 },
 "nbformat": 4,
 "nbformat_minor": 5
}
