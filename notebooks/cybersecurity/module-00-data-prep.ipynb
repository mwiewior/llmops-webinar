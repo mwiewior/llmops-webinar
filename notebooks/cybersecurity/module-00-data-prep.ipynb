{
 "cells": [
  {
   "cell_type": "markdown",
   "id": "0",
   "metadata": {},
   "source": [
    "## Prepare train, validation and test datasets"
   ]
  },
  {
   "cell_type": "code",
   "execution_count": null,
   "id": "1",
   "metadata": {},
   "outputs": [],
   "source": [
    "import polars as pl\n",
    "from sms_classifier import Input, Output\n",
    "\n",
    "df = pl.read_csv(\"../../data/sms_phishing.csv\")\n",
    "from dspy import Example\n",
    "\n",
    "examples = []\n",
    "for r in df.iter_rows(named=True):\n",
    "    examples.append(\n",
    "        Example(\n",
    "            input=Input(text=r[\"TEXT\"]), output=Output(label=r[\"LABEL\"].lower())\n",
    "        ).with_inputs(\"input\")\n",
    "    )"
   ]
  },
  {
   "cell_type": "code",
   "execution_count": null,
   "id": "2",
   "metadata": {},
   "outputs": [],
   "source": [
    "len(examples)"
   ]
  },
  {
   "cell_type": "markdown",
   "id": "3",
   "metadata": {},
   "source": [
    "### Split the dataset into train, val and test"
   ]
  },
  {
   "cell_type": "code",
   "execution_count": null,
   "id": "4",
   "metadata": {},
   "outputs": [],
   "source": [
    "TRAIN_PCT = 0.9666\n",
    "VAL_PCT = 0.0167\n",
    "TEST_PCT = 0.0167\n",
    "train = examples[: int(len(examples) * TRAIN_PCT)]\n",
    "val = examples[\n",
    "    int(len(examples) * TRAIN_PCT) : int(len(examples) * (TRAIN_PCT + VAL_PCT))\n",
    "]\n",
    "test = examples[int(len(examples) * (TRAIN_PCT + VAL_PCT)) :]"
   ]
  },
  {
   "cell_type": "code",
   "execution_count": null,
   "id": "5",
   "metadata": {},
   "outputs": [],
   "source": [
    "len(train), len(val), len(test)"
   ]
  },
  {
   "cell_type": "code",
   "execution_count": null,
   "id": "6",
   "metadata": {},
   "outputs": [],
   "source": []
  }
 ],
 "metadata": {
  "kernelspec": {
   "display_name": "Python 3",
   "language": "python",
   "name": "python3"
  },
  "language_info": {
   "codemirror_mode": {
    "name": "ipython",
    "version": 2
   },
   "file_extension": ".py",
   "mimetype": "text/x-python",
   "name": "python",
   "nbconvert_exporter": "python",
   "pygments_lexer": "ipython2",
   "version": "2.7.6"
  }
 },
 "nbformat": 4,
 "nbformat_minor": 5
}
